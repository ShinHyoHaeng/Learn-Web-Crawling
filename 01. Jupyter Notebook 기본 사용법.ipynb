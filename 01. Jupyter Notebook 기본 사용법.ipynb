{
 "cells": [
  {
   "cell_type": "code",
   "execution_count": 1,
   "id": "22875b38",
   "metadata": {},
   "outputs": [
    {
     "name": "stdout",
     "output_type": "stream",
     "text": [
      "hello\n"
     ]
    }
   ],
   "source": [
    "print('hello')"
   ]
  },
  {
   "cell_type": "code",
   "execution_count": 4,
   "id": "ca1655b8",
   "metadata": {},
   "outputs": [
    {
     "name": "stdout",
     "output_type": "stream",
     "text": [
      "3\n"
     ]
    },
    {
     "data": {
      "text/plain": [
       "-1"
      ]
     },
     "execution_count": 4,
     "metadata": {},
     "output_type": "execute_result"
    }
   ],
   "source": [
    "a=1\n",
    "b=2\n",
    "print(a + b)\n",
    "a - b"
   ]
  },
  {
   "cell_type": "code",
   "execution_count": 6,
   "id": "453b9eaf",
   "metadata": {
    "scrolled": true
   },
   "outputs": [
    {
     "data": {
      "text/plain": [
       "0.5"
      ]
     },
     "execution_count": 6,
     "metadata": {},
     "output_type": "execute_result"
    }
   ],
   "source": [
    "a / b"
   ]
  },
  {
   "cell_type": "markdown",
   "id": "7b1bc874",
   "metadata": {},
   "source": [
    "제목쓰기\n",
    "1. aaa\n",
    "2. bbb"
   ]
  },
  {
   "cell_type": "markdown",
   "id": "a15c79c5",
   "metadata": {},
   "source": [
    "# 제목1 -> \\#"
   ]
  },
  {
   "cell_type": "markdown",
   "id": "a840890d",
   "metadata": {},
   "source": [
    "## 제목2 -> \\##"
   ]
  },
  {
   "cell_type": "markdown",
   "id": "79b301f0",
   "metadata": {},
   "source": [
    "### 제목3 -> \\###"
   ]
  },
  {
   "cell_type": "markdown",
   "id": "75acd2fe",
   "metadata": {},
   "source": [
    "#### 제목4 -> \\####"
   ]
  },
  {
   "cell_type": "markdown",
   "id": "941b3e26",
   "metadata": {},
   "source": [
    "##### i -> \\#####"
   ]
  },
  {
   "cell_type": "markdown",
   "id": "45dd9cfa",
   "metadata": {},
   "source": [
    "### 제목\n",
    "- 내용1\n",
    "- 내용2"
   ]
  },
  {
   "cell_type": "markdown",
   "id": "c346d127",
   "metadata": {},
   "source": [
    "### 제목\n",
    "- 내용1\n",
    "    - 내용1-1\n",
    "    - 내용1-2\n",
    "- 내용2\n",
    "    - 내용2-1\n",
    "    - 내용2-2"
   ]
  },
  {
   "cell_type": "code",
   "execution_count": 7,
   "id": "702352ce",
   "metadata": {},
   "outputs": [
    {
     "name": "stdout",
     "output_type": "stream",
     "text": [
      "연산할 첫번째 숫자를 입력하세요:10\n",
      "연산할 두번째 숫자를 입력하세요:15\n",
      "10 + 15 = 25\n",
      "10 - 15 = -5\n",
      "10 * 15 = 150\n",
      "10 / 15 = 0.6666666666666666\n"
     ]
    }
   ],
   "source": [
    "# 사용자로부터 값을 입력받아 변수 값으로 대입\n",
    "# int() 함수를 이용해 정수로 변환\n",
    "\n",
    "a=int(input(\"연산할 첫번째 숫자를 입력하세요:\"))\n",
    "b=int(input(\"연산할 두번째 숫자를 입력하세요:\"))\n",
    "\n",
    "# 산술연산자로 처리한 다음 result 변수 값으로 대입\n",
    "result=a+b\n",
    "\n",
    "# 연산 결과 출력\n",
    "print(a,\"+\",b,\"=\",result)\n",
    "\n",
    "\n",
    "result=a-b\n",
    "print(a,\"-\",b,\"=\",result)\n",
    "result=a*b\n",
    "print(a,\"*\",b,\"=\",result)\n",
    "result=a/b\n",
    "print(a,\"/\",b,\"=\",result)"
   ]
  },
  {
   "cell_type": "code",
   "execution_count": 8,
   "id": "101f0755",
   "metadata": {},
   "outputs": [],
   "source": [
    "# 윈도우 프로그래밍\n",
    "\n",
    "# tkinter는 파이썬에서 GUI 관련 모듈을 제공해주는 표준 윈도우 라이브러리\n",
    "from tkinter import *\n",
    "\n",
    "\n",
    "## 변수 ##\n",
    "window = None\n",
    "canvas = None\n",
    "\n",
    "# 선의 시작점과 끝점의 x,y 좌표값 저장\n",
    "x1,y1,x2,y2 = None,None,None,None \n",
    "\n",
    "\n",
    "## 함수 ##\n",
    "# 사용자 정의 함수, 함수의 정의부\n",
    "def mouseClick(event):\n",
    "    global x1,y1,x2,y2 # 전역변수 선언\n",
    "    x1 = event.x # 첫번째 이벤트가 발생했을 때 x 좌표값을 x1에 저장\n",
    "    y1 = event.y # 첫번째 이벤트가 발생했을 때 y 좌표값을 y1에 저장\n",
    "\n",
    "def mouseDrop(event):\n",
    "    global x1,y1,x2,y2 # 전역변수 선언\n",
    "    x2 = event.x # 두번째 이벤트가 발생했을 때 x 좌표값을 x2에 저장\n",
    "    y2 = event.y # 두번째 이벤트가 발생했을 때 y 좌표값을 y2에 저장\n",
    "\n",
    "    # canvas.create_line(시작점x,시작점y,끝점x,끝점y)\n",
    "    canvas.create_line(x1,y1,x2,y2,width=5,fill=\"red\")\n",
    "\n",
    "\n",
    "## 메인 코드 ##\n",
    "    \n",
    "# Tk(): 기본이 되는 윈도우를 반환. 루트 윈도우(Root Window)/베이스 윈도우(Base Window).\n",
    "window = Tk()\n",
    "\n",
    "# 윈도우 창에 제목 표시\n",
    "window.title(\"그림판\")\n",
    "\n",
    "# window 안에 canvas 생성\n",
    "canvas = Canvas(window, height=300, width=300)\n",
    "\n",
    "# bind() 메서드: 원하는 이벤트와 원하는 함수 연결\n",
    "canvas.bind(\"<Button-1>\", mouseClick)\n",
    "canvas.bind(\"<ButtonRelease-1>\", mouseDrop)\n",
    "\n",
    "# window 안에 canvas를 디스플레이\n",
    "canvas.pack()\n",
    "\n",
    "# 이 부분에서 화면을 구성하고 처리\n",
    "window.mainloop()"
   ]
  },
  {
   "cell_type": "code",
   "execution_count": 9,
   "id": "f938d1d7",
   "metadata": {},
   "outputs": [
    {
     "name": "stdout",
     "output_type": "stream",
     "text": [
      "1번째 숫자: 1\n",
      "1\n",
      "2번째 숫자: 2\n",
      "2\n",
      "3번째 숫자: 3\n",
      "3\n",
      "4번째 숫자: 4\n",
      "4\n",
      "합계 : 10\n",
      "[1, 2, 3, 4]\n",
      "[2, 3]\n"
     ]
    }
   ],
   "source": [
    "\n",
    "aa=[]\n",
    "hap = 0\n",
    "\n",
    "for i in range(0,4,1):\n",
    "    aa.append(0)\n",
    "    aa[i] = int(input(str(i+1)+\"번째 숫자: \"))\n",
    "    print(aa[i])\n",
    "    hap += aa[i]\n",
    "\n",
    "print(\"합계 : %d\" % hap)\n",
    "print(aa)\n",
    "\n",
    "# 리스트이름[시작:끝+1]\n",
    "print(aa[1:3]) # aa의 1부터 2개의 값(aa[1],aa[2]) 출력"
   ]
  },
  {
   "cell_type": "code",
   "execution_count": 10,
   "id": "733b4b20",
   "metadata": {
    "scrolled": true
   },
   "outputs": [
    {
     "name": "stdout",
     "output_type": "stream",
     "text": [
      "  1      2      3      4    \n",
      "  5      6      7      8    \n",
      "  9     10     11     12    \n"
     ]
    }
   ],
   "source": [
    "## 2차원 리스트\n",
    "\n",
    "# 빈 리스트 작성\n",
    "list1=[]\n",
    "list2=[]\n",
    "\n",
    "# 리스트에 출력될 값 초기값 선언\n",
    "value=1\n",
    "\n",
    "# 2차원 리스트 생성\n",
    "for i in range(0,3):\n",
    "    for k in range(0,4):\n",
    "        list1.append(value)\n",
    "        value += 1\n",
    "    list2.append(list1)\n",
    "    list1=[] # list1을 초기화 하지 않으면 이전값(1,2,3,4)만 출력됨\n",
    "\n",
    "# 2차원 리스트 출력\n",
    "for i in range(0,3):\n",
    "    for k in range(0,4):\n",
    "        print(\"%3d\" % list2[i][k], end=\"    \") # end=\"  \" --> 가로로 출력되도록 \n",
    "    print(\"\")"
   ]
  },
  {
   "cell_type": "code",
   "execution_count": 11,
   "id": "cb5503e1",
   "metadata": {},
   "outputs": [
    {
     "name": "stdout",
     "output_type": "stream",
     "text": [
      "홍길동\n",
      "['홍길동', '컴공']\n",
      "[]\n",
      "홍길동\n",
      "{'이름': '홍길동', '전공': '컴공'}\n",
      "[]\n"
     ]
    }
   ],
   "source": [
    "## 딕셔너리\n",
    "\n",
    "'''\n",
    "리스트는 대괄호[], 딕셔너리는 중괄호{}, 튜플은 소괄호()로 집합 생성\n",
    "'''\n",
    "\n",
    "# 학생 정보의 리스트 표현\n",
    "student1=[1000,'홍길동','컴공']\n",
    "print(student1[1])\n",
    "\n",
    "# 리스트에 값 추가\n",
    "student1.append('010-1234-5678')\n",
    "\n",
    "# 리스트에 값 삭제\n",
    "del(student1[0])\n",
    "\n",
    "# 리스트 제일 뒤의 값을 빼내고 빼낸 값 삭제\n",
    "student1.pop()\n",
    "print(student1)\n",
    "\n",
    "# 리스트의 모든 값 삭제\n",
    "student1.clear()\n",
    "print(student1)\n",
    "\n",
    "\n",
    "# 학생 정보의 딕셔너리 표현\n",
    "student={'학번':1000, '이름':'홍길동', '전공':'컴공'}\n",
    "print(student['이름']) # 인덱스 대신 키 사용\n",
    "\n",
    "# 딕셔너리에 값 추가\n",
    "student['연락처'] = '010-1234-5678' # 키와 값 모두 입력 필요\n",
    "\n",
    "# 딕셔너리에 값 삭제\n",
    "del(student['학번'])\n",
    "\n",
    "# 딕셔너리에서 특정키의 값 삭제\n",
    "student.pop('연락처')\n",
    "print(student)\n",
    "\n",
    "# 딕셔너리의 모든 값 삭제\n",
    "student.clear()\n",
    "print(student1)"
   ]
  }
 ],
 "metadata": {
  "kernelspec": {
   "display_name": "Python 3 (ipykernel)",
   "language": "python",
   "name": "python3"
  },
  "language_info": {
   "codemirror_mode": {
    "name": "ipython",
    "version": 3
   },
   "file_extension": ".py",
   "mimetype": "text/x-python",
   "name": "python",
   "nbconvert_exporter": "python",
   "pygments_lexer": "ipython3",
   "version": "3.9.6"
  }
 },
 "nbformat": 4,
 "nbformat_minor": 5
}
