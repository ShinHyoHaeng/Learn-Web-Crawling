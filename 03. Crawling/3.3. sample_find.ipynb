{
 "cells": [
  {
   "cell_type": "code",
   "execution_count": 1,
   "id": "c13c163e",
   "metadata": {},
   "outputs": [],
   "source": [
    "# import \n",
    "import requests\n",
    "from bs4 import BeautifulSoup"
   ]
  },
  {
   "cell_type": "code",
   "execution_count": 2,
   "id": "f9e09592",
   "metadata": {},
   "outputs": [],
   "source": [
    "# page 가져와서 파싱\n",
    "page = requests.get(\"https://pythonscraping.com/pages/page3.html\")\n",
    "#soup = BeautifulSoup(page.text, 'html.parser')\n",
    "soup = BeautifulSoup(page.content, 'html.parser')"
   ]
  },
  {
   "cell_type": "code",
   "execution_count": 4,
   "id": "adafddc4",
   "metadata": {},
   "outputs": [
    {
     "name": "stdout",
     "output_type": "stream",
     "text": [
      "Item Title :  \n",
      "Vegetable Basket\n",
      "\n",
      "Description :  \n",
      "This vegetable basket is the perfect gift for your health conscious (or overweight) friends!\n",
      "Now with super-colorful bell peppers!\n",
      "\n",
      "Cost :  \n",
      "$15.00\n",
      "\n",
      "Image src :  ../img/gifts/img1.jpg\n",
      "\n",
      "------------------------\n",
      "\n",
      "Item Title :  \n",
      "Russian Nesting Dolls\n",
      "\n",
      "Description :  \n",
      "Hand-painted by trained monkeys, these exquisite dolls are priceless! And by \"priceless,\" we mean \"extremely expensive\"! 8 entire dolls per set! Octuple the presents!\n",
      "\n",
      "Cost :  \n",
      "$10,000.52\n",
      "\n",
      "Image src :  ../img/gifts/img2.jpg\n",
      "\n",
      "------------------------\n",
      "\n",
      "Item Title :  \n",
      "Fish Painting\n",
      "\n",
      "Description :  \n",
      "If something seems fishy about this painting, it's because it's a fish! Also hand-painted by trained monkeys!\n",
      "\n",
      "Cost :  \n",
      "$10,005.00\n",
      "\n",
      "Image src :  ../img/gifts/img3.jpg\n",
      "\n",
      "------------------------\n",
      "\n",
      "Item Title :  \n",
      "Dead Parrot\n",
      "\n",
      "Description :  \n",
      "This is an ex-parrot! Or maybe he's only resting?\n",
      "\n",
      "Cost :  \n",
      "$0.50\n",
      "\n",
      "Image src :  ../img/gifts/img4.jpg\n",
      "\n",
      "------------------------\n",
      "\n",
      "Item Title :  \n",
      "Mystery Box\n",
      "\n",
      "Description :  \n",
      "If you love suprises, this mystery box is for you! Do not place on light-colored surfaces. May cause oil staining. Keep your friends guessing!\n",
      "\n",
      "Cost :  \n",
      "$1.50\n",
      "\n",
      "Image src :  ../img/gifts/img6.jpg\n",
      "\n",
      "------------------------\n",
      "\n"
     ]
    }
   ],
   "source": [
    "# 필요한 정보인 table 가져오기\n",
    "table = soup.find(\"table\") # 전체 페이지 중 테이블만 가져오기\n",
    "rows = table.find_all(\"tr\") # 테이블 내에 있는 모든 열 가져오기\n",
    "rows = rows[1:] # 첫번째 열(rows[0])은 th이기 때문에 제외\n",
    "\n",
    "# 데이터 출력\n",
    "for row in rows: \n",
    "    cols = row.find_all(\"td\") # 각 열의 행 가져오기\n",
    "    \n",
    "    title = cols[0].text # 상품 이름\n",
    "    des = cols[1].text # 상품 설명\n",
    "    cost = cols[2].text # 가격\n",
    "    img = row.find(\"img\").get(\"src\") # 이미지의 경우, src가 속성 -> src에 있는 값 가져오기\n",
    "    \n",
    "    print(\"Item Title : \", title)\n",
    "    print(\"Description : \", des)\n",
    "    print(\"Cost : \", cost)\n",
    "    print(\"Image src : \", img)\n",
    "    print(\"\\n------------------------\\n\")"
   ]
  },
  {
   "cell_type": "code",
   "execution_count": 9,
   "id": "b8da473d",
   "metadata": {},
   "outputs": [
    {
     "name": "stdout",
     "output_type": "stream",
     "text": [
      "['Vegetable Basket', 'This vegetable basket is the perfect gift for your health conscious (or overweight) friends!\\nNow with super-colorful bell peppers!', '$15.00', '../img/gifts/img1.jpg']\n",
      "['Russian Nesting Dolls', 'Hand-painted by trained monkeys, these exquisite dolls are priceless! And by \"priceless,\" we mean \"extremely expensive\"! 8 entire dolls per set! Octuple the presents!', '$10,000.52', '../img/gifts/img2.jpg']\n",
      "['Fish Painting', \"If something seems fishy about this painting, it's because it's a fish! Also hand-painted by trained monkeys!\", '$10,005.00', '../img/gifts/img3.jpg']\n",
      "['Dead Parrot', \"This is an ex-parrot! Or maybe he's only resting?\", '$0.50', '../img/gifts/img4.jpg']\n",
      "['Mystery Box', 'If you love suprises, this mystery box is for you! Do not place on light-colored surfaces. May cause oil staining. Keep your friends guessing!', '$1.50', '../img/gifts/img6.jpg']\n"
     ]
    }
   ],
   "source": [
    "# 리스트로 만들기\n",
    "\n",
    "items = [] # 데이터를 담을 리스트 생성\n",
    "\n",
    "for row in rows: \n",
    "    cols = row.find_all(\"td\") # 각 열의 행 가져오기\n",
    "    \n",
    "    title = cols[0].text.strip() # 상품 이름\n",
    "    des = cols[1].text.strip() # 상품 설명\n",
    "    cost = cols[2].text.strip() # 가격\n",
    "    img = row.find(\"img\").get(\"src\") # 이미지의 경우, src가 속성 -> src에 있는 값 가져오기\n",
    "    \n",
    "    items = [title, des, cost, img]\n",
    "    print(items)"
   ]
  },
  {
   "cell_type": "code",
   "execution_count": 30,
   "id": "11bd8def",
   "metadata": {},
   "outputs": [
    {
     "name": "stdout",
     "output_type": "stream",
     "text": [
      "['Vegetable Basket', 'This vegetable basket is the perfect gift for your health conscious (or overweight) friends!\\nNow with super-colorful bell peppers!', '$15.00', '../img/gifts/img1.jpg']\n",
      "['Russian Nesting Dolls', 'Hand-painted by trained monkeys, these exquisite dolls are priceless! And by \"priceless,\" we mean \"extremely expensive\"! 8 entire dolls per set! Octuple the presents!', '$10,000.52', '../img/gifts/img2.jpg']\n",
      "['Fish Painting', \"If something seems fishy about this painting, it's because it's a fish! Also hand-painted by trained monkeys!\", '$10,005.00', '../img/gifts/img3.jpg']\n",
      "['Dead Parrot', \"This is an ex-parrot! Or maybe he's only resting?\", '$0.50', '../img/gifts/img4.jpg']\n",
      "['Mystery Box', 'If you love suprises, this mystery box is for you! Do not place on light-colored surfaces. May cause oil staining. Keep your friends guessing!', '$1.50', '../img/gifts/img6.jpg']\n"
     ]
    }
   ],
   "source": [
    "table = soup.select_one(\"table#giftList\")\n",
    "rows = table.select(\"tr.gift\")\n",
    "\n",
    "items = [] # 데이터를 담을 리스트 생성\n",
    "\n",
    "for row in rows: \n",
    "    cols = row.select(\"td\") # 각 열의 행 가져오기\n",
    "    \n",
    "    title = cols[0].text.strip() # 상품 이름\n",
    "    des = cols[1].text.strip() # 상품 설명\n",
    "    cost = cols[2].text.strip() # 가격\n",
    "    img = row.find(\"img\")['src'].strip() # 이미지 경로   \n",
    "    \n",
    "    items = [title, des, cost, img]\n",
    "    print(items)"
   ]
  },
  {
   "cell_type": "code",
   "execution_count": null,
   "id": "62a65954",
   "metadata": {},
   "outputs": [],
   "source": []
  }
 ],
 "metadata": {
  "kernelspec": {
   "display_name": "Python 3 (ipykernel)",
   "language": "python",
   "name": "python3"
  },
  "language_info": {
   "codemirror_mode": {
    "name": "ipython",
    "version": 3
   },
   "file_extension": ".py",
   "mimetype": "text/x-python",
   "name": "python",
   "nbconvert_exporter": "python",
   "pygments_lexer": "ipython3",
   "version": "3.9.6"
  }
 },
 "nbformat": 4,
 "nbformat_minor": 5
}
