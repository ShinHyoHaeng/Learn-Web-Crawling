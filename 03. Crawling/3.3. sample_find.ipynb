{
 "cells": [
  {
   "cell_type": "code",
   "execution_count": 1,
   "id": "3e8895e5",
   "metadata": {},
   "outputs": [],
   "source": [
    "# import \n",
    "import requests\n",
    "from bs4 import BeautifulSoup"
   ]
  },
  {
   "cell_type": "code",
   "execution_count": 31,
   "id": "d4c5a792",
   "metadata": {},
   "outputs": [
    {
     "data": {
      "text/plain": [
       "<html>\n",
       "<head>\n",
       "<style>\n",
       "img{\n",
       "\twidth:75px;\n",
       "}\n",
       "table{\n",
       "\twidth:50%;\n",
       "}\n",
       "td{\n",
       "\tmargin:10px;\n",
       "\tpadding:10px;\n",
       "}\n",
       ".wrapper{\n",
       "\twidth:800px;\n",
       "}\n",
       ".excitingNote{\n",
       "\tfont-style:italic;\n",
       "\tfont-weight:bold;\n",
       "}\n",
       "</style>\n",
       "</head>\n",
       "<body>\n",
       "<div id=\"wrapper\">\n",
       "<img src=\"../img/gifts/logo.jpg\" style=\"float:left;\"/>\n",
       "<h1>Totally Normal Gifts</h1>\n",
       "<div id=\"content\">Here is a collection of totally normal, totally reasonable gifts that your friends are sure to love! Our collection is\n",
       "hand-curated by well-paid, free-range Tibetan monks.<p>\n",
       "We haven't figured out how to make online shopping carts yet, but you can send us a check to:<br/>\n",
       "123 Main St.<br/>\n",
       "Abuja, Nigeria\n",
       "We will then send your totally amazing gift, pronto! Please include an extra $5.00 for gift wrapping.</p></div>\n",
       "<table id=\"giftList\">\n",
       "<tr><th>\n",
       "Item Title\n",
       "</th><th>\n",
       "Description\n",
       "</th><th>\n",
       "Cost\n",
       "</th><th>\n",
       "Image\n",
       "</th></tr>\n",
       "<tr class=\"gift\" id=\"gift1\"><td>\n",
       "Vegetable Basket\n",
       "</td><td>\n",
       "This vegetable basket is the perfect gift for your health conscious (or overweight) friends!\n",
       "<span class=\"excitingNote\">Now with super-colorful bell peppers!</span>\n",
       "</td><td>\n",
       "$15.00\n",
       "</td><td>\n",
       "<img src=\"../img/gifts/img1.jpg\"/>\n",
       "</td></tr>\n",
       "<tr class=\"gift\" id=\"gift2\"><td>\n",
       "Russian Nesting Dolls\n",
       "</td><td>\n",
       "Hand-painted by trained monkeys, these exquisite dolls are priceless! And by \"priceless,\" we mean \"extremely expensive\"! <span class=\"excitingNote\">8 entire dolls per set! Octuple the presents!</span>\n",
       "</td><td>\n",
       "$10,000.52\n",
       "</td><td>\n",
       "<img src=\"../img/gifts/img2.jpg\"/>\n",
       "</td></tr>\n",
       "<tr class=\"gift\" id=\"gift3\"><td>\n",
       "Fish Painting\n",
       "</td><td>\n",
       "If something seems fishy about this painting, it's because it's a fish! <span class=\"excitingNote\">Also hand-painted by trained monkeys!</span>\n",
       "</td><td>\n",
       "$10,005.00\n",
       "</td><td>\n",
       "<img src=\"../img/gifts/img3.jpg\"/>\n",
       "</td></tr>\n",
       "<tr class=\"gift\" id=\"gift4\"><td>\n",
       "Dead Parrot\n",
       "</td><td>\n",
       "This is an ex-parrot! <span class=\"excitingNote\">Or maybe he's only resting?</span>\n",
       "</td><td>\n",
       "$0.50\n",
       "</td><td>\n",
       "<img src=\"../img/gifts/img4.jpg\"/>\n",
       "</td></tr>\n",
       "<tr class=\"gift\" id=\"gift5\"><td>\n",
       "Mystery Box\n",
       "</td><td>\n",
       "If you love suprises, this mystery box is for you! Do not place on light-colored surfaces. May cause oil staining. <span class=\"excitingNote\">Keep your friends guessing!</span>\n",
       "</td><td>\n",
       "$1.50\n",
       "</td><td>\n",
       "<img src=\"../img/gifts/img6.jpg\"/>\n",
       "</td></tr>\n",
       "</table>\n",
       "\n",
       "<div id=\"footer\">\n",
       "© Totally Normal Gifts, Inc. <br/>\n",
       "+234 (617) 863-0736\n",
       "</div>\n",
       "</div>\n",
       "</body>\n",
       "</html>"
      ]
     },
     "execution_count": 31,
     "metadata": {},
     "output_type": "execute_result"
    }
   ],
   "source": [
    "# page 가져와서 파싱\n",
    "page = requests.get(\"https://pythonscraping.com/pages/page3.html\")\n",
    "#soup = BeautifulSoup(page.text, 'html.parser')\n",
    "soup = BeautifulSoup(page.content, 'html.parser')\n",
    "soup"
   ]
  },
  {
   "cell_type": "code",
   "execution_count": 49,
   "id": "0c6afad7",
   "metadata": {},
   "outputs": [
    {
     "name": "stdout",
     "output_type": "stream",
     "text": [
      "Item Title :  \n",
      "Vegetable Basket\n",
      "\n",
      "Description :  \n",
      "This vegetable basket is the perfect gift for your health conscious (or overweight) friends!\n",
      "Now with super-colorful bell peppers!\n",
      "\n",
      "Cost :  \n",
      "$15.00\n",
      "\n",
      "Image src :  ../img/gifts/img1.jpg\n",
      "\n",
      "------------------------\n",
      "\n",
      "Item Title :  \n",
      "Russian Nesting Dolls\n",
      "\n",
      "Description :  \n",
      "Hand-painted by trained monkeys, these exquisite dolls are priceless! And by \"priceless,\" we mean \"extremely expensive\"! 8 entire dolls per set! Octuple the presents!\n",
      "\n",
      "Cost :  \n",
      "$10,000.52\n",
      "\n",
      "Image src :  ../img/gifts/img2.jpg\n",
      "\n",
      "------------------------\n",
      "\n",
      "Item Title :  \n",
      "Fish Painting\n",
      "\n",
      "Description :  \n",
      "If something seems fishy about this painting, it's because it's a fish! Also hand-painted by trained monkeys!\n",
      "\n",
      "Cost :  \n",
      "$10,005.00\n",
      "\n",
      "Image src :  ../img/gifts/img3.jpg\n",
      "\n",
      "------------------------\n",
      "\n",
      "Item Title :  \n",
      "Dead Parrot\n",
      "\n",
      "Description :  \n",
      "This is an ex-parrot! Or maybe he's only resting?\n",
      "\n",
      "Cost :  \n",
      "$0.50\n",
      "\n",
      "Image src :  ../img/gifts/img4.jpg\n",
      "\n",
      "------------------------\n",
      "\n",
      "Item Title :  \n",
      "Mystery Box\n",
      "\n",
      "Description :  \n",
      "If you love suprises, this mystery box is for you! Do not place on light-colored surfaces. May cause oil staining. Keep your friends guessing!\n",
      "\n",
      "Cost :  \n",
      "$1.50\n",
      "\n",
      "Image src :  ../img/gifts/img6.jpg\n",
      "\n",
      "------------------------\n",
      "\n"
     ]
    }
   ],
   "source": [
    "# 필요한 정보인 table 가져오기\n",
    "table = soup.find(\"table\") # 전체 페이지 중 테이블만 가져오기\n",
    "rows = table.find_all(\"tr\") # 테이블 내에 있는 모든 열 가져오기\n",
    "# rows = soup.find_all(\"tr\"): 전체 페이지에서 tr 바로 가져오기\n",
    "rows = rows[1:] # 첫번째 열(rows[0])은 th이기 때문에 제외\n",
    "\n",
    "# 데이터 출력\n",
    "for row in rows: \n",
    "    cols = row.find_all(\"td\") # 각 열의 행 가져오기\n",
    "    \n",
    "    title = cols[0].text # 상품 이름\n",
    "    des = cols[1].text # 상품 설명\n",
    "    cost = cols[2].text # 가격\n",
    "    img = row.find(\"img\").get(\"src\") # 이미지의 경우, src가 속성 -> src에 있는 값 가져오기\n",
    "    \n",
    "    print(\"Item Title : \", title)\n",
    "    print(\"Description : \", des)\n",
    "    print(\"Cost : \", cost)\n",
    "    print(\"Image src : \", img)\n",
    "    print(\"\\n------------------------\\n\")"
   ]
  },
  {
   "cell_type": "code",
   "execution_count": 9,
   "id": "bdae7887",
   "metadata": {},
   "outputs": [
    {
     "name": "stdout",
     "output_type": "stream",
     "text": [
      "['Vegetable Basket', 'This vegetable basket is the perfect gift for your health conscious (or overweight) friends!\\nNow with super-colorful bell peppers!', '$15.00', '../img/gifts/img1.jpg']\n",
      "['Russian Nesting Dolls', 'Hand-painted by trained monkeys, these exquisite dolls are priceless! And by \"priceless,\" we mean \"extremely expensive\"! 8 entire dolls per set! Octuple the presents!', '$10,000.52', '../img/gifts/img2.jpg']\n",
      "['Fish Painting', \"If something seems fishy about this painting, it's because it's a fish! Also hand-painted by trained monkeys!\", '$10,005.00', '../img/gifts/img3.jpg']\n",
      "['Dead Parrot', \"This is an ex-parrot! Or maybe he's only resting?\", '$0.50', '../img/gifts/img4.jpg']\n",
      "['Mystery Box', 'If you love suprises, this mystery box is for you! Do not place on light-colored surfaces. May cause oil staining. Keep your friends guessing!', '$1.50', '../img/gifts/img6.jpg']\n"
     ]
    }
   ],
   "source": [
    "# 리스트로 만들기\n",
    "\n",
    "item = [] # 데이터를 담을 리스트 생성\n",
    "\n",
    "for row in rows: \n",
    "    cols = row.find_all(\"td\") # 각 열의 행 가져오기\n",
    "    \n",
    "    title = cols[0].text.strip() # 상품 이름\n",
    "    des = cols[1].text.strip() # 상품 설명\n",
    "    cost = cols[2].text.strip() # 가격\n",
    "    img = row.find(\"img\").get(\"src\") # 이미지의 경우, src가 속성 -> src에 있는 값 가져오기\n",
    "    \n",
    "    item = [title, des, cost, img]\n",
    "    print(item)"
   ]
  },
  {
   "cell_type": "code",
   "execution_count": 58,
   "id": "bb7a2a18",
   "metadata": {},
   "outputs": [
    {
     "name": "stdout",
     "output_type": "stream",
     "text": [
      "[['Vegetable Basket', 'This vegetable basket is the perfect gift for your health conscious (or overweight) friends!\\nNow with super-colorful bell peppers!', '$15.00', '../img/gifts/img1.jpg'], ['Russian Nesting Dolls', 'Hand-painted by trained monkeys, these exquisite dolls are priceless! And by \"priceless,\" we mean \"extremely expensive\"! 8 entire dolls per set! Octuple the presents!', '$10,000.52', '../img/gifts/img2.jpg'], ['Fish Painting', \"If something seems fishy about this painting, it's because it's a fish! Also hand-painted by trained monkeys!\", '$10,005.00', '../img/gifts/img3.jpg'], ['Dead Parrot', \"This is an ex-parrot! Or maybe he's only resting?\", '$0.50', '../img/gifts/img4.jpg'], ['Mystery Box', 'If you love suprises, this mystery box is for you! Do not place on light-colored surfaces. May cause oil staining. Keep your friends guessing!', '$1.50', '../img/gifts/img6.jpg']]\n"
     ]
    }
   ],
   "source": [
    "rows = soup.select(\"tr.gift\")\n",
    "\n",
    "items = [] # 전체 데이터를 담을 리스트 생성\n",
    "item = [] # 각 열의 데이터 담을 리스트 생성\n",
    "\n",
    "for row in rows: \n",
    "    cols = row.select(\"td\") # 각 열의 행 가져오기\n",
    "    \n",
    "    title = cols[0].text.strip() # 상품 이름\n",
    "    des = cols[1].text.strip() # 상품 설명\n",
    "    cost = cols[2].text.strip() # 가격\n",
    "    img = row.select_one('img')['src'] # 이미지 경로(text 타입이기 때문에 .text하면 구문 오류 발생)   \n",
    "    \n",
    "    item = [title, des, cost, img]\n",
    "    items.append(item)\n",
    "\n",
    "print(items)"
   ]
  },
  {
   "cell_type": "code",
   "execution_count": 46,
   "id": "b9c38795",
   "metadata": {},
   "outputs": [
    {
     "name": "stdout",
     "output_type": "stream",
     "text": [
      "['Vegetable Basket', 'This vegetable basket is the perfect gift for your health conscious (or overweight) friends!\\nNow with super-colorful bell peppers!', '$15.00', '../img/gifts/img1.jpg']\n",
      "['Russian Nesting Dolls', 'Hand-painted by trained monkeys, these exquisite dolls are priceless! And by \"priceless,\" we mean \"extremely expensive\"! 8 entire dolls per set! Octuple the presents!', '$10,000.52', '../img/gifts/img2.jpg']\n",
      "['Fish Painting', \"If something seems fishy about this painting, it's because it's a fish! Also hand-painted by trained monkeys!\", '$10,005.00', '../img/gifts/img3.jpg']\n",
      "['Dead Parrot', \"This is an ex-parrot! Or maybe he's only resting?\", '$0.50', '../img/gifts/img4.jpg']\n",
      "['Mystery Box', 'If you love suprises, this mystery box is for you! Do not place on light-colored surfaces. May cause oil staining. Keep your friends guessing!', '$1.50', '../img/gifts/img6.jpg']\n"
     ]
    }
   ],
   "source": [
    "for item in items:\n",
    "    print(item)"
   ]
  },
  {
   "cell_type": "code",
   "execution_count": 63,
   "id": "2b862182",
   "metadata": {},
   "outputs": [],
   "source": [
    "# td 가져오기(select 사용)\n",
    "tds = soup.select('tr.gift > td')"
   ]
  },
  {
   "cell_type": "code",
   "execution_count": 64,
   "id": "35569e95",
   "metadata": {},
   "outputs": [
    {
     "data": {
      "text/plain": [
       "20"
      ]
     },
     "execution_count": 64,
     "metadata": {},
     "output_type": "execute_result"
    }
   ],
   "source": [
    "len(tds)"
   ]
  },
  {
   "cell_type": "code",
   "execution_count": 65,
   "id": "2edfdc91",
   "metadata": {
    "scrolled": true
   },
   "outputs": [
    {
     "name": "stdout",
     "output_type": "stream",
     "text": [
      "<td>\n",
      "Vegetable Basket\n",
      "</td>\n",
      "-------------\n",
      "<td>\n",
      "This vegetable basket is the perfect gift for your health conscious (or overweight) friends!\n",
      "<span class=\"excitingNote\">Now with super-colorful bell peppers!</span>\n",
      "</td>\n",
      "-------------\n",
      "<td>\n",
      "$15.00\n",
      "</td>\n",
      "-------------\n",
      "<td>\n",
      "<img src=\"../img/gifts/img1.jpg\"/>\n",
      "</td>\n",
      "-------------\n",
      "<td>\n",
      "Russian Nesting Dolls\n",
      "</td>\n",
      "-------------\n",
      "<td>\n",
      "Hand-painted by trained monkeys, these exquisite dolls are priceless! And by \"priceless,\" we mean \"extremely expensive\"! <span class=\"excitingNote\">8 entire dolls per set! Octuple the presents!</span>\n",
      "</td>\n",
      "-------------\n",
      "<td>\n",
      "$10,000.52\n",
      "</td>\n",
      "-------------\n",
      "<td>\n",
      "<img src=\"../img/gifts/img2.jpg\"/>\n",
      "</td>\n",
      "-------------\n",
      "<td>\n",
      "Fish Painting\n",
      "</td>\n",
      "-------------\n",
      "<td>\n",
      "If something seems fishy about this painting, it's because it's a fish! <span class=\"excitingNote\">Also hand-painted by trained monkeys!</span>\n",
      "</td>\n",
      "-------------\n",
      "<td>\n",
      "$10,005.00\n",
      "</td>\n",
      "-------------\n",
      "<td>\n",
      "<img src=\"../img/gifts/img3.jpg\"/>\n",
      "</td>\n",
      "-------------\n",
      "<td>\n",
      "Dead Parrot\n",
      "</td>\n",
      "-------------\n",
      "<td>\n",
      "This is an ex-parrot! <span class=\"excitingNote\">Or maybe he's only resting?</span>\n",
      "</td>\n",
      "-------------\n",
      "<td>\n",
      "$0.50\n",
      "</td>\n",
      "-------------\n",
      "<td>\n",
      "<img src=\"../img/gifts/img4.jpg\"/>\n",
      "</td>\n",
      "-------------\n",
      "<td>\n",
      "Mystery Box\n",
      "</td>\n",
      "-------------\n",
      "<td>\n",
      "If you love suprises, this mystery box is for you! Do not place on light-colored surfaces. May cause oil staining. <span class=\"excitingNote\">Keep your friends guessing!</span>\n",
      "</td>\n",
      "-------------\n",
      "<td>\n",
      "$1.50\n",
      "</td>\n",
      "-------------\n",
      "<td>\n",
      "<img src=\"../img/gifts/img6.jpg\"/>\n",
      "</td>\n",
      "-------------\n"
     ]
    }
   ],
   "source": [
    "for td in tds:\n",
    "    print(td)\n",
    "    print(\"-------------\")"
   ]
  },
  {
   "cell_type": "code",
   "execution_count": 117,
   "id": "c72900a4",
   "metadata": {},
   "outputs": [
    {
     "name": "stdout",
     "output_type": "stream",
     "text": [
      "[['Vegetable Basket', 'This vegetable basket is the perfect gift for your health conscious (or overweight) friends!\\nNow with super-colorful bell peppers!', '$15.00', '../img/gifts/img1.jpg'], ['Russian Nesting Dolls', 'Hand-painted by trained monkeys, these exquisite dolls are priceless! And by \"priceless,\" we mean \"extremely expensive\"! 8 entire dolls per set! Octuple the presents!', '$10,000.52', '../img/gifts/img2.jpg'], ['Fish Painting', \"If something seems fishy about this painting, it's because it's a fish! Also hand-painted by trained monkeys!\", '$10,005.00', '../img/gifts/img3.jpg'], ['Dead Parrot', \"This is an ex-parrot! Or maybe he's only resting?\", '$0.50', '../img/gifts/img4.jpg'], ['Mystery Box', 'If you love suprises, this mystery box is for you! Do not place on light-colored surfaces. May cause oil staining. Keep your friends guessing!', '$1.50', '../img/gifts/img6.jpg']]\n"
     ]
    }
   ],
   "source": [
    "# enumerate(): 요소의 순번(index)을 가져오는 객체\n",
    "'''\n",
    "# 예시\n",
    "for i, item in enumerate(['a','b','c']):\n",
    "    if != 0: # 첫번째 요소는 출력하지 않는다\n",
    "        print('{}번째 아이템은 {}',format(i, item))\n",
    "'''\n",
    "\n",
    "items = []\n",
    "item = []\n",
    "\n",
    "for i,td in enumerate(tds):\n",
    "    if i % 4 == 0 :\n",
    "        item.append(td.text.strip())\n",
    "    elif i % 4 == 1 :\n",
    "        item.append(td.text.strip())\n",
    "    elif i % 4 == 2 :\n",
    "        item.append(td.text.strip())\n",
    "    elif i % 4 == 3 :\n",
    "        item.append(td.find(\"img\")['src'])\n",
    "        items.append(item)\n",
    "        item = []\n",
    "print(items)"
   ]
  }
 ],
 "metadata": {
  "kernelspec": {
   "display_name": "Python 3 (ipykernel)",
   "language": "python",
   "name": "python3"
  },
  "language_info": {
   "codemirror_mode": {
    "name": "ipython",
    "version": 3
   },
   "file_extension": ".py",
   "mimetype": "text/x-python",
   "name": "python",
   "nbconvert_exporter": "python",
   "pygments_lexer": "ipython3",
   "version": "3.9.6"
  }
 },
 "nbformat": 4,
 "nbformat_minor": 5
}
