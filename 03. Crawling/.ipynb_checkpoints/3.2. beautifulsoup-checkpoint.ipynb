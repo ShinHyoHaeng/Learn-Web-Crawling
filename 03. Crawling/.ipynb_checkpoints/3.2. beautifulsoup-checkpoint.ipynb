{
 "cells": [
  {
   "cell_type": "markdown",
   "id": "ced4488b",
   "metadata": {},
   "source": [
    "## Beautifulsoup"
   ]
  },
  {
   "cell_type": "code",
   "execution_count": 1,
   "id": "6f2a3436",
   "metadata": {},
   "outputs": [],
   "source": [
    "from bs4 import BeautifulSoup"
   ]
  },
  {
   "cell_type": "code",
   "execution_count": 2,
   "id": "45dd7aec",
   "metadata": {},
   "outputs": [],
   "source": [
    "html_doc = \"\"\"<html><head><title>The Dormouse's story</title></head>\n",
    "<body>\n",
    "<p class=\"title\"><b>The Dormouse's story</b></p>\n",
    "\n",
    "<p class=\"story\">Once upon a time there were three little sisters; and their names were\n",
    "    <a href=\"http://example.com/elsie\" class=\"sister\" id=\"link1\">Elsie</a>,\n",
    "    <a href=\"http://example.com/lacie\" class=\"sister\" id=\"link2\" data01=\"title_01\">Lacie</a>\n",
    "     and\n",
    "    <a href=\"http://example.com/tillie\" class=\"sister\" id=\"link3\" data02=\"title_02\">Tillie</a>;\n",
    "    and they lived at the bottom of a well.\n",
    "</p>\n",
    "\n",
    "<p class=\"story\">...</p>\n",
    "</body>\n",
    "</html>\n",
    "\"\"\"\n"
   ]
  },
  {
   "cell_type": "code",
   "execution_count": 3,
   "id": "465bad16",
   "metadata": {},
   "outputs": [
    {
     "data": {
      "text/plain": [
       "<html><head><title>The Dormouse's story</title></head>\n",
       "<body>\n",
       "<p class=\"title\"><b>The Dormouse's story</b></p>\n",
       "<p class=\"story\">Once upon a time there were three little sisters; and their names were\n",
       "    <a class=\"sister\" href=\"http://example.com/elsie\" id=\"link1\">Elsie</a>,\n",
       "    <a class=\"sister\" data01=\"title_01\" href=\"http://example.com/lacie\" id=\"link2\">Lacie</a>\n",
       "     and\n",
       "    <a class=\"sister\" data02=\"title_02\" href=\"http://example.com/tillie\" id=\"link3\">Tillie</a>;\n",
       "    and they lived at the bottom of a well.\n",
       "</p>\n",
       "<p class=\"story\">...</p>\n",
       "</body>\n",
       "</html>"
      ]
     },
     "execution_count": 3,
     "metadata": {},
     "output_type": "execute_result"
    }
   ],
   "source": [
    "soup = BeautifulSoup(html_doc, 'html.parser')\n",
    "soup"
   ]
  },
  {
   "cell_type": "code",
   "execution_count": 4,
   "id": "e4ce2710",
   "metadata": {},
   "outputs": [
    {
     "name": "stdout",
     "output_type": "stream",
     "text": [
      "<html>\n",
      " <head>\n",
      "  <title>\n",
      "   The Dormouse's story\n",
      "  </title>\n",
      " </head>\n",
      " <body>\n",
      "  <p class=\"title\">\n",
      "   <b>\n",
      "    The Dormouse's story\n",
      "   </b>\n",
      "  </p>\n",
      "  <p class=\"story\">\n",
      "   Once upon a time there were three little sisters; and their names were\n",
      "   <a class=\"sister\" href=\"http://example.com/elsie\" id=\"link1\">\n",
      "    Elsie\n",
      "   </a>\n",
      "   ,\n",
      "   <a class=\"sister\" data01=\"title_01\" href=\"http://example.com/lacie\" id=\"link2\">\n",
      "    Lacie\n",
      "   </a>\n",
      "   and\n",
      "   <a class=\"sister\" data02=\"title_02\" href=\"http://example.com/tillie\" id=\"link3\">\n",
      "    Tillie\n",
      "   </a>\n",
      "   ;\n",
      "    and they lived at the bottom of a well.\n",
      "  </p>\n",
      "  <p class=\"story\">\n",
      "   ...\n",
      "  </p>\n",
      " </body>\n",
      "</html>\n",
      "\n"
     ]
    }
   ],
   "source": [
    "print(soup.prettify())"
   ]
  },
  {
   "cell_type": "code",
   "execution_count": 5,
   "id": "f004b50d",
   "metadata": {},
   "outputs": [
    {
     "data": {
      "text/plain": [
       "<title>The Dormouse's story</title>"
      ]
     },
     "execution_count": 5,
     "metadata": {},
     "output_type": "execute_result"
    }
   ],
   "source": [
    "# <title> 가져오기\n",
    "\n",
    "soup.title"
   ]
  },
  {
   "cell_type": "code",
   "execution_count": 6,
   "id": "8171c358",
   "metadata": {},
   "outputs": [
    {
     "data": {
      "text/plain": [
       "'head'"
      ]
     },
     "execution_count": 6,
     "metadata": {},
     "output_type": "execute_result"
    }
   ],
   "source": [
    "soup.title.parent.name"
   ]
  },
  {
   "cell_type": "code",
   "execution_count": 7,
   "id": "0fbfae72",
   "metadata": {},
   "outputs": [
    {
     "data": {
      "text/plain": [
       "<p class=\"title\"><b>The Dormouse's story</b></p>"
      ]
     },
     "execution_count": 7,
     "metadata": {},
     "output_type": "execute_result"
    }
   ],
   "source": [
    "soup.p"
   ]
  },
  {
   "cell_type": "code",
   "execution_count": 8,
   "id": "80cb1555",
   "metadata": {},
   "outputs": [
    {
     "data": {
      "text/plain": [
       "['title']"
      ]
     },
     "execution_count": 8,
     "metadata": {},
     "output_type": "execute_result"
    }
   ],
   "source": [
    "soup.p['class']"
   ]
  },
  {
   "cell_type": "markdown",
   "id": "af349f2b",
   "metadata": {},
   "source": [
    "### find_all(), find()\n",
    "- 태그를 이용하여 검색"
   ]
  },
  {
   "cell_type": "markdown",
   "id": "244fb6df",
   "metadata": {},
   "source": [
    "#### find()"
   ]
  },
  {
   "cell_type": "code",
   "execution_count": 9,
   "id": "64e051c3",
   "metadata": {},
   "outputs": [
    {
     "data": {
      "text/plain": [
       "<p class=\"title\"><b>The Dormouse's story</b></p>"
      ]
     },
     "execution_count": 9,
     "metadata": {},
     "output_type": "execute_result"
    }
   ],
   "source": [
    "html2 = soup.find('p')\n",
    "html2"
   ]
  },
  {
   "cell_type": "code",
   "execution_count": 10,
   "id": "ddb9842b",
   "metadata": {},
   "outputs": [
    {
     "data": {
      "text/plain": [
       "<p class=\"title\"><b>The Dormouse's story</b></p>"
      ]
     },
     "execution_count": 10,
     "metadata": {},
     "output_type": "execute_result"
    }
   ],
   "source": [
    "html2 = soup.find('p',class_='title')\n",
    "html2"
   ]
  },
  {
   "cell_type": "code",
   "execution_count": 11,
   "id": "b76c9eda",
   "metadata": {},
   "outputs": [
    {
     "data": {
      "text/plain": [
       "<p class=\"story\">Once upon a time there were three little sisters; and their names were\n",
       "    <a class=\"sister\" href=\"http://example.com/elsie\" id=\"link1\">Elsie</a>,\n",
       "    <a class=\"sister\" data01=\"title_01\" href=\"http://example.com/lacie\" id=\"link2\">Lacie</a>\n",
       "     and\n",
       "    <a class=\"sister\" data02=\"title_02\" href=\"http://example.com/tillie\" id=\"link3\">Tillie</a>;\n",
       "    and they lived at the bottom of a well.\n",
       "</p>"
      ]
     },
     "execution_count": 11,
     "metadata": {},
     "output_type": "execute_result"
    }
   ],
   "source": [
    "html2 = soup.find('p',class_='story')\n",
    "html2"
   ]
  },
  {
   "cell_type": "code",
   "execution_count": 12,
   "id": "f277bbf4",
   "metadata": {},
   "outputs": [
    {
     "data": {
      "text/plain": [
       "<a class=\"sister\" href=\"http://example.com/elsie\" id=\"link1\">Elsie</a>"
      ]
     },
     "execution_count": 12,
     "metadata": {},
     "output_type": "execute_result"
    }
   ],
   "source": [
    "html2 = soup.find('a', id='link1')\n",
    "html2"
   ]
  },
  {
   "cell_type": "code",
   "execution_count": 14,
   "id": "64331cbe",
   "metadata": {},
   "outputs": [
    {
     "data": {
      "text/plain": [
       "<a class=\"sister\" data01=\"title_01\" href=\"http://example.com/lacie\" id=\"link2\">Lacie</a>"
      ]
     },
     "execution_count": 14,
     "metadata": {},
     "output_type": "execute_result"
    }
   ],
   "source": [
    "html2 = soup.find('a', attrs={'data01':'title_01'})\n",
    "html2"
   ]
  },
  {
   "cell_type": "code",
   "execution_count": 15,
   "id": "6c986ae8",
   "metadata": {},
   "outputs": [
    {
     "data": {
      "text/plain": [
       "<a class=\"sister\" data02=\"title_02\" href=\"http://example.com/tillie\" id=\"link3\">Tillie</a>"
      ]
     },
     "execution_count": 15,
     "metadata": {},
     "output_type": "execute_result"
    }
   ],
   "source": [
    "html2 = soup.find('a', attrs={'class':'sister','data02':'title_02'})\n",
    "html2"
   ]
  },
  {
   "cell_type": "markdown",
   "id": "5628a5e1",
   "metadata": {},
   "source": [
    "#### find_all()"
   ]
  },
  {
   "cell_type": "code",
   "execution_count": 16,
   "id": "8f38297d",
   "metadata": {},
   "outputs": [
    {
     "data": {
      "text/plain": [
       "[<p class=\"title\"><b>The Dormouse's story</b></p>,\n",
       " <p class=\"story\">Once upon a time there were three little sisters; and their names were\n",
       "     <a class=\"sister\" href=\"http://example.com/elsie\" id=\"link1\">Elsie</a>,\n",
       "     <a class=\"sister\" data01=\"title_01\" href=\"http://example.com/lacie\" id=\"link2\">Lacie</a>\n",
       "      and\n",
       "     <a class=\"sister\" data02=\"title_02\" href=\"http://example.com/tillie\" id=\"link3\">Tillie</a>;\n",
       "     and they lived at the bottom of a well.\n",
       " </p>,\n",
       " <p class=\"story\">...</p>]"
      ]
     },
     "execution_count": 16,
     "metadata": {},
     "output_type": "execute_result"
    }
   ],
   "source": [
    "html2 = soup.find_all('p')\n",
    "html2"
   ]
  },
  {
   "cell_type": "code",
   "execution_count": 17,
   "id": "bb12d649",
   "metadata": {},
   "outputs": [
    {
     "name": "stdout",
     "output_type": "stream",
     "text": [
      "<p class=\"title\"><b>The Dormouse's story</b></p>\n",
      "--------\n",
      "<p class=\"story\">Once upon a time there were three little sisters; and their names were\n",
      "    <a class=\"sister\" href=\"http://example.com/elsie\" id=\"link1\">Elsie</a>,\n",
      "    <a class=\"sister\" data01=\"title_01\" href=\"http://example.com/lacie\" id=\"link2\">Lacie</a>\n",
      "     and\n",
      "    <a class=\"sister\" data02=\"title_02\" href=\"http://example.com/tillie\" id=\"link3\">Tillie</a>;\n",
      "    and they lived at the bottom of a well.\n",
      "</p>\n",
      "--------\n",
      "<p class=\"story\">...</p>\n",
      "--------\n"
     ]
    }
   ],
   "source": [
    "html2 = soup.find_all('p')\n",
    "for html in html2:\n",
    "    print(html)\n",
    "    print('--------')"
   ]
  },
  {
   "cell_type": "code",
   "execution_count": 18,
   "id": "b2213c3c",
   "metadata": {},
   "outputs": [
    {
     "name": "stdout",
     "output_type": "stream",
     "text": [
      "<p class=\"story\">Once upon a time there were three little sisters; and their names were\n",
      "    <a class=\"sister\" href=\"http://example.com/elsie\" id=\"link1\">Elsie</a>,\n",
      "    <a class=\"sister\" data01=\"title_01\" href=\"http://example.com/lacie\" id=\"link2\">Lacie</a>\n",
      "     and\n",
      "    <a class=\"sister\" data02=\"title_02\" href=\"http://example.com/tillie\" id=\"link3\">Tillie</a>;\n",
      "    and they lived at the bottom of a well.\n",
      "</p>\n",
      "--------\n",
      "<p class=\"story\">...</p>\n",
      "--------\n"
     ]
    }
   ],
   "source": [
    "html2 = soup.find_all('p','story')\n",
    "for html in html2:\n",
    "    print(html)\n",
    "    print('--------')"
   ]
  },
  {
   "cell_type": "code",
   "execution_count": 19,
   "id": "868d2d90",
   "metadata": {},
   "outputs": [
    {
     "name": "stdout",
     "output_type": "stream",
     "text": [
      "<a class=\"sister\" href=\"http://example.com/elsie\" id=\"link1\">Elsie</a>\n",
      "--------\n"
     ]
    }
   ],
   "source": [
    "html2 = soup.find_all('a',id='link1')\n",
    "for html in html2:\n",
    "    print(html)\n",
    "    print('--------')"
   ]
  },
  {
   "cell_type": "markdown",
   "id": "00b50d4b",
   "metadata": {},
   "source": [
    "### select(), select_one()\n",
    "- CSS 선택자를 이용해 검색"
   ]
  },
  {
   "cell_type": "markdown",
   "id": "140427f3",
   "metadata": {},
   "source": [
    "#### select_one()"
   ]
  },
  {
   "cell_type": "code",
   "execution_count": 20,
   "id": "accd90b3",
   "metadata": {},
   "outputs": [
    {
     "data": {
      "text/plain": [
       "<p class=\"title\"><b>The Dormouse's story</b></p>"
      ]
     },
     "execution_count": 20,
     "metadata": {},
     "output_type": "execute_result"
    }
   ],
   "source": [
    "html2 = soup.select_one('p')\n",
    "html2"
   ]
  },
  {
   "cell_type": "code",
   "execution_count": 21,
   "id": "d587d7b5",
   "metadata": {},
   "outputs": [
    {
     "data": {
      "text/plain": [
       "<p class=\"title\"><b>The Dormouse's story</b></p>"
      ]
     },
     "execution_count": 21,
     "metadata": {},
     "output_type": "execute_result"
    }
   ],
   "source": [
    "html2 = soup.select_one('p.title')\n",
    "html2"
   ]
  },
  {
   "cell_type": "code",
   "execution_count": 22,
   "id": "47c2face",
   "metadata": {},
   "outputs": [
    {
     "data": {
      "text/plain": [
       "<a class=\"sister\" href=\"http://example.com/elsie\" id=\"link1\">Elsie</a>"
      ]
     },
     "execution_count": 22,
     "metadata": {},
     "output_type": "execute_result"
    }
   ],
   "source": [
    "html2 = soup.select_one('a#link1')\n",
    "html2"
   ]
  },
  {
   "cell_type": "code",
   "execution_count": 23,
   "id": "678c4e03",
   "metadata": {},
   "outputs": [
    {
     "data": {
      "text/plain": [
       "<a class=\"sister\" data01=\"title_01\" href=\"http://example.com/lacie\" id=\"link2\">Lacie</a>"
      ]
     },
     "execution_count": 23,
     "metadata": {},
     "output_type": "execute_result"
    }
   ],
   "source": [
    "html2 = soup.select_one('a[data01=\"title_01\"]')\n",
    "html2"
   ]
  },
  {
   "cell_type": "code",
   "execution_count": 24,
   "id": "edfb4de8",
   "metadata": {},
   "outputs": [
    {
     "data": {
      "text/plain": [
       "<a class=\"sister\" data01=\"title_01\" href=\"http://example.com/lacie\" id=\"link2\">Lacie</a>"
      ]
     },
     "execution_count": 24,
     "metadata": {},
     "output_type": "execute_result"
    }
   ],
   "source": [
    "html2 = soup.select_one('a[data01]')\n",
    "html2"
   ]
  },
  {
   "cell_type": "code",
   "execution_count": 25,
   "id": "b227fdad",
   "metadata": {},
   "outputs": [
    {
     "data": {
      "text/plain": [
       "<title>The Dormouse's story</title>"
      ]
     },
     "execution_count": 25,
     "metadata": {},
     "output_type": "execute_result"
    }
   ],
   "source": [
    "soup.select_one('html head title')"
   ]
  },
  {
   "cell_type": "code",
   "execution_count": 26,
   "id": "20b548ee",
   "metadata": {},
   "outputs": [
    {
     "data": {
      "text/plain": [
       "<a class=\"sister\" data01=\"title_01\" href=\"http://example.com/lacie\" id=\"link2\">Lacie</a>"
      ]
     },
     "execution_count": 26,
     "metadata": {},
     "output_type": "execute_result"
    }
   ],
   "source": [
    "soup.select_one('p.story> a#link2')"
   ]
  },
  {
   "cell_type": "markdown",
   "id": "82d1ecca",
   "metadata": {},
   "source": [
    "#### select()"
   ]
  },
  {
   "cell_type": "code",
   "execution_count": 28,
   "id": "e0381421",
   "metadata": {},
   "outputs": [
    {
     "name": "stdout",
     "output_type": "stream",
     "text": [
      "<p class=\"title\"><b>The Dormouse's story</b></p>\n"
     ]
    }
   ],
   "source": [
    "html2 = soup.select(\"p.title\")\n",
    "for html in html2 : \n",
    "    print(html)"
   ]
  },
  {
   "cell_type": "code",
   "execution_count": 29,
   "id": "46fd97dc",
   "metadata": {},
   "outputs": [
    {
     "data": {
      "text/plain": [
       "'Elsie'"
      ]
     },
     "execution_count": 29,
     "metadata": {},
     "output_type": "execute_result"
    }
   ],
   "source": [
    "html2 = soup.select_one('a#link1')\n",
    "html2.text"
   ]
  },
  {
   "cell_type": "code",
   "execution_count": 30,
   "id": "4e5beabc",
   "metadata": {},
   "outputs": [
    {
     "data": {
      "text/plain": [
       "['sister']"
      ]
     },
     "execution_count": 30,
     "metadata": {},
     "output_type": "execute_result"
    }
   ],
   "source": [
    "html2['class']"
   ]
  },
  {
   "cell_type": "code",
   "execution_count": null,
   "id": "8944ffcf",
   "metadata": {},
   "outputs": [],
   "source": []
  }
 ],
 "metadata": {
  "kernelspec": {
   "display_name": "Python 3 (ipykernel)",
   "language": "python",
   "name": "python3"
  },
  "language_info": {
   "codemirror_mode": {
    "name": "ipython",
    "version": 3
   },
   "file_extension": ".py",
   "mimetype": "text/x-python",
   "name": "python",
   "nbconvert_exporter": "python",
   "pygments_lexer": "ipython3",
   "version": "3.9.6"
  }
 },
 "nbformat": 4,
 "nbformat_minor": 5
}
