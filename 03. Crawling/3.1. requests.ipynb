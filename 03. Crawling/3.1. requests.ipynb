{
 "cells": [
  {
   "cell_type": "markdown",
   "id": "6ae44c1a",
   "metadata": {},
   "source": [
    "## 라이브러리: requests"
   ]
  },
  {
   "cell_type": "markdown",
   "id": "1e665869",
   "metadata": {},
   "source": [
    "### http request -> 웹을 통해 request 요청"
   ]
  },
  {
   "cell_type": "code",
   "execution_count": 1,
   "id": "8a1c2f32",
   "metadata": {},
   "outputs": [],
   "source": [
    "import requests"
   ]
  },
  {
   "cell_type": "code",
   "execution_count": 2,
   "id": "0dadd686",
   "metadata": {},
   "outputs": [
    {
     "data": {
      "text/plain": [
       "<Response [200]>"
      ]
     },
     "execution_count": 2,
     "metadata": {},
     "output_type": "execute_result"
    }
   ],
   "source": [
    "# request 가져오기\n",
    "\n",
    "req = requests.get('https://pythonscraping.com/pages/page1.html')\n",
    "req"
   ]
  },
  {
   "cell_type": "code",
   "execution_count": 3,
   "id": "baf1a972",
   "metadata": {},
   "outputs": [
    {
     "data": {
      "text/plain": [
       "requests.models.Response"
      ]
     },
     "execution_count": 3,
     "metadata": {},
     "output_type": "execute_result"
    }
   ],
   "source": [
    "type(req)"
   ]
  },
  {
   "cell_type": "code",
   "execution_count": 4,
   "id": "c0844796",
   "metadata": {},
   "outputs": [
    {
     "data": {
      "text/plain": [
       "'<html>\\n<head>\\n<title>A Useful Page</title>\\n</head>\\n<body>\\n<h1>An Interesting Title</h1>\\n<div>\\nLorem ipsum dolor sit amet, consectetur adipisicing elit, sed do eiusmod tempor incididunt ut labore et dolore magna aliqua. Ut enim ad minim veniam, quis nostrud exercitation ullamco laboris nisi ut aliquip ex ea commodo consequat. Duis aute irure dolor in reprehenderit in voluptate velit esse cillum dolore eu fugiat nulla pariatur. Excepteur sint occaecat cupidatat non proident, sunt in culpa qui officia deserunt mollit anim id est laborum.\\n</div>\\n</body>\\n</html>\\n'"
      ]
     },
     "execution_count": 4,
     "metadata": {},
     "output_type": "execute_result"
    }
   ],
   "source": [
    "#req에 있는 text 가져오기\n",
    "\n",
    "req_html_txt = req.text\n",
    "req_html_txt"
   ]
  },
  {
   "cell_type": "code",
   "execution_count": 5,
   "id": "3d3750fc",
   "metadata": {},
   "outputs": [
    {
     "name": "stdout",
     "output_type": "stream",
     "text": [
      "{'Date': 'Fri, 15 Oct 2021 05:18:23 GMT', 'Server': 'Apache', 'Last-Modified': 'Sat, 09 Jun 2018 19:15:58 GMT', 'ETag': '\"4121bc8-234-56e3a58b39172\"', 'Accept-Ranges': 'bytes', 'Content-Length': '564', 'Keep-Alive': 'timeout=5, max=100', 'Connection': 'Keep-Alive', 'Content-Type': 'text/html'}\n"
     ]
    },
    {
     "data": {
      "text/plain": [
       "requests.structures.CaseInsensitiveDict"
      ]
     },
     "execution_count": 5,
     "metadata": {},
     "output_type": "execute_result"
    }
   ],
   "source": [
    "# dictionary = JSON \n",
    "\n",
    "req_header = req.headers\n",
    "print(req_header)\n",
    "type(req_header)"
   ]
  },
  {
   "cell_type": "code",
   "execution_count": 7,
   "id": "2902065c",
   "metadata": {},
   "outputs": [
    {
     "data": {
      "text/plain": [
       "'text/html'"
      ]
     },
     "execution_count": 7,
     "metadata": {},
     "output_type": "execute_result"
    }
   ],
   "source": [
    "# mime type\n",
    "\n",
    "req_header['content-type']"
   ]
  },
  {
   "cell_type": "code",
   "execution_count": 8,
   "id": "3e12786c",
   "metadata": {},
   "outputs": [
    {
     "data": {
      "text/plain": [
       "200"
      ]
     },
     "execution_count": 8,
     "metadata": {},
     "output_type": "execute_result"
    }
   ],
   "source": [
    "# request의 상태값(200이 정상)\n",
    "\n",
    "req_status = req.status_code\n",
    "req_status"
   ]
  },
  {
   "cell_type": "markdown",
   "id": "bbd142b1",
   "metadata": {},
   "source": [
    "### 다른 예제"
   ]
  },
  {
   "cell_type": "code",
   "execution_count": 16,
   "id": "3488ef36",
   "metadata": {},
   "outputs": [
    {
     "name": "stdout",
     "output_type": "stream",
     "text": [
      "403\n",
      "application/json; charset=utf-8\n",
      "utf-8\n",
      "{\"message\":\"API rate limit exceeded for 1.220.249.83. (But here's the good news: Authenticated requests get a higher rate limit. Check out the documentation for more details.)\",\"documentation_url\":\"https://docs.github.com/rest/overview/resources-in-the-rest-api#rate-limiting\"}\n",
      "\n",
      "{'message': \"API rate limit exceeded for 1.220.249.83. (But here's the good news: Authenticated requests get a higher rate limit. Check out the documentation for more details.)\", 'documentation_url': 'https://docs.github.com/rest/overview/resources-in-the-rest-api#rate-limiting'}\n"
     ]
    }
   ],
   "source": [
    "r = requests.get('https://api.github.com')\n",
    "\n",
    "print(r.status_code)\n",
    "print(r.headers['content-type'])\n",
    "print(r.encoding)\n",
    "print(r.text)\n",
    "print(r.json())"
   ]
  },
  {
   "cell_type": "markdown",
   "id": "29a6cac3",
   "metadata": {},
   "source": [
    "- get: 파라미터 조건에 맞는 데이터 요청 \n",
    "- post: body 안에 데이터를 넣고 전송 "
   ]
  },
  {
   "cell_type": "markdown",
   "id": "a0093cef",
   "metadata": {},
   "source": [
    "### get"
   ]
  },
  {
   "cell_type": "markdown",
   "id": "7d597ab8",
   "metadata": {},
   "source": [
    "* 요청한 정보를 만들어서 주는 사이트\n",
    "- https://httpbin.org\n",
    "- https://httpbin.org/get?key1=val1&key2=val2"
   ]
  },
  {
   "cell_type": "code",
   "execution_count": 20,
   "id": "4886f25f",
   "metadata": {},
   "outputs": [
    {
     "data": {
      "text/plain": [
       "'{\\n  \"args\": {\\n    \"key1\": \"val1\", \\n    \"key2\": \"val2\"\\n  }, \\n  \"headers\": {\\n    \"Accept\": \"*/*\", \\n    \"Accept-Encoding\": \"gzip, deflate\", \\n    \"Host\": \"httpbin.org\", \\n    \"User-Agent\": \"python-requests/2.26.0\", \\n    \"X-Amzn-Trace-Id\": \"Root=1-61691424-6fefbc4017c27902478c8dde\"\\n  }, \\n  \"origin\": \"1.220.249.83\", \\n  \"url\": \"https://httpbin.org/get?key1=val1&key2=val2\"\\n}\\n'"
      ]
     },
     "execution_count": 20,
     "metadata": {},
     "output_type": "execute_result"
    }
   ],
   "source": [
    "param_data = {'key1':'val1', 'key2':'val2'}\n",
    "\n",
    "# 주소와 파라미터 전송(파라미터는 선택값)\n",
    "r = requests.get('https://httpbin.org/get', params = param_data)\n",
    "r.text"
   ]
  },
  {
   "cell_type": "code",
   "execution_count": 21,
   "id": "4d3c6645",
   "metadata": {},
   "outputs": [
    {
     "data": {
      "text/plain": [
       "'{\\n  \"args\": {\\n    \"key1\": \"val333\", \\n    \"key2\": \"val2\"\\n  }, \\n  \"headers\": {\\n    \"Accept\": \"*/*\", \\n    \"Accept-Encoding\": \"gzip, deflate\", \\n    \"Host\": \"httpbin.org\", \\n    \"User-Agent\": \"python-requests/2.26.0\", \\n    \"X-Amzn-Trace-Id\": \"Root=1-61691441-0f48782764cb9ac414e9eeda\"\\n  }, \\n  \"origin\": \"1.220.249.83\", \\n  \"url\": \"https://httpbin.org/get?key1=val333&key2=val2\"\\n}\\n'"
      ]
     },
     "execution_count": 21,
     "metadata": {},
     "output_type": "execute_result"
    }
   ],
   "source": [
    "param_data = {'key1':'val333', 'key2':'val2'}\n",
    "\n",
    "# 주소와 파라미터 전송(파라미터는 선택값)\n",
    "r = requests.get('https://httpbin.org/get', params = param_data)\n",
    "r.text"
   ]
  },
  {
   "cell_type": "code",
   "execution_count": 22,
   "id": "c2beca2c",
   "metadata": {},
   "outputs": [
    {
     "data": {
      "text/plain": [
       "'https://httpbin.org/get?key1=val333&key2=val2'"
      ]
     },
     "execution_count": 22,
     "metadata": {},
     "output_type": "execute_result"
    }
   ],
   "source": [
    "r.url"
   ]
  },
  {
   "cell_type": "code",
   "execution_count": 24,
   "id": "b66bc9e5",
   "metadata": {},
   "outputs": [
    {
     "data": {
      "text/plain": [
       "{'args': {'key1': 'val333', 'key2': 'val2'},\n",
       " 'headers': {'Accept': '*/*',\n",
       "  'Accept-Encoding': 'gzip, deflate',\n",
       "  'Host': 'httpbin.org',\n",
       "  'User-Agent': 'python-requests/2.26.0',\n",
       "  'X-Amzn-Trace-Id': 'Root=1-61691441-0f48782764cb9ac414e9eeda'},\n",
       " 'origin': '1.220.249.83',\n",
       " 'url': 'https://httpbin.org/get?key1=val333&key2=val2'}"
      ]
     },
     "execution_count": 24,
     "metadata": {},
     "output_type": "execute_result"
    }
   ],
   "source": [
    "import json\n",
    "json_obj = json.loads(r.text)\n",
    "json_obj"
   ]
  },
  {
   "cell_type": "markdown",
   "id": "cec0b402",
   "metadata": {},
   "source": [
    "### post"
   ]
  },
  {
   "cell_type": "code",
   "execution_count": 25,
   "id": "80884573",
   "metadata": {},
   "outputs": [
    {
     "data": {
      "text/plain": [
       "'{\\n  \"args\": {}, \\n  \"data\": \"\", \\n  \"files\": {}, \\n  \"form\": {\\n    \"key\": \"value\"\\n  }, \\n  \"headers\": {\\n    \"Accept\": \"*/*\", \\n    \"Accept-Encoding\": \"gzip, deflate\", \\n    \"Content-Length\": \"9\", \\n    \"Content-Type\": \"application/x-www-form-urlencoded\", \\n    \"Host\": \"httpbin.org\", \\n    \"User-Agent\": \"python-requests/2.26.0\", \\n    \"X-Amzn-Trace-Id\": \"Root=1-616919be-0cd0f73b0692fcfa335a9b31\"\\n  }, \\n  \"json\": null, \\n  \"origin\": \"1.220.249.83\", \\n  \"url\": \"http://httpbin.org/post\"\\n}\\n'"
      ]
     },
     "execution_count": 25,
     "metadata": {},
     "output_type": "execute_result"
    }
   ],
   "source": [
    "# 데이터 전송\n",
    "\n",
    "r = requests.post('http://httpbin.org/post', data = {'key':'value'})\n",
    "r.text"
   ]
  },
  {
   "cell_type": "code",
   "execution_count": 26,
   "id": "9bd34228",
   "metadata": {},
   "outputs": [
    {
     "data": {
      "text/plain": [
       "{'args': {},\n",
       " 'data': '',\n",
       " 'files': {},\n",
       " 'form': {'key': 'value'},\n",
       " 'headers': {'Accept': '*/*',\n",
       "  'Accept-Encoding': 'gzip, deflate',\n",
       "  'Content-Length': '9',\n",
       "  'Content-Type': 'application/x-www-form-urlencoded',\n",
       "  'Host': 'httpbin.org',\n",
       "  'User-Agent': 'python-requests/2.26.0',\n",
       "  'X-Amzn-Trace-Id': 'Root=1-616919be-0cd0f73b0692fcfa335a9b31'},\n",
       " 'json': None,\n",
       " 'origin': '1.220.249.83',\n",
       " 'url': 'http://httpbin.org/post'}"
      ]
     },
     "execution_count": 26,
     "metadata": {},
     "output_type": "execute_result"
    }
   ],
   "source": [
    "json_obj = json.loads(r.text)\n",
    "json_obj"
   ]
  },
  {
   "cell_type": "code",
   "execution_count": 27,
   "id": "b1bd9cd8",
   "metadata": {},
   "outputs": [
    {
     "data": {
      "text/plain": [
       "'key1=val1&key2=val2&key2=val3'"
      ]
     },
     "execution_count": 27,
     "metadata": {},
     "output_type": "execute_result"
    }
   ],
   "source": [
    "# value값이 배열일 때\n",
    "\n",
    "param_data = {'key1':'val1', 'key2':['val2','val3']}\n",
    "r = requests.post('https://httpbin.org/post', data = param_data)\n",
    "r.request.body"
   ]
  },
  {
   "cell_type": "code",
   "execution_count": 29,
   "id": "48ad274c",
   "metadata": {},
   "outputs": [
    {
     "data": {
      "text/plain": [
       "'https://httpbin.org/post?key1=%ED%95%9C%EA%B8%80&key2=%ED%95%9C%EA%B8%802'"
      ]
     },
     "execution_count": 29,
     "metadata": {},
     "output_type": "execute_result"
    }
   ],
   "source": [
    "# 파라미터 값을 한글로 넘겨줘도 처리 가능\n",
    "\n",
    "param_data = {'key1':'한글', 'key2':'한글2'}\n",
    "r = requests.post('https://httpbin.org/post', params = param_data)\n",
    "r.url"
   ]
  },
  {
   "cell_type": "code",
   "execution_count": null,
   "id": "ed306ba3",
   "metadata": {},
   "outputs": [],
   "source": []
  }
 ],
 "metadata": {
  "kernelspec": {
   "display_name": "Python 3 (ipykernel)",
   "language": "python",
   "name": "python3"
  },
  "language_info": {
   "codemirror_mode": {
    "name": "ipython",
    "version": 3
   },
   "file_extension": ".py",
   "mimetype": "text/x-python",
   "name": "python",
   "nbconvert_exporter": "python",
   "pygments_lexer": "ipython3",
   "version": "3.9.6"
  }
 },
 "nbformat": 4,
 "nbformat_minor": 5
}
