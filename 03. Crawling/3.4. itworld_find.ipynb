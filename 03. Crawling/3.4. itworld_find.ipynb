{
 "cells": [
  {
   "cell_type": "code",
   "execution_count": 12,
   "id": "7e6defa7",
   "metadata": {},
   "outputs": [],
   "source": [
    "# import \n",
    "import requests\n",
    "from bs4 import BeautifulSoup"
   ]
  },
  {
   "cell_type": "code",
   "execution_count": 13,
   "id": "c72af4cf",
   "metadata": {},
   "outputs": [],
   "source": [
    "# page 가져와서 파싱\n",
    "page = requests.get(\"https://www.itworld.co.kr/main/\")\n",
    "soup = BeautifulSoup(page.content, 'html.parser')"
   ]
  },
  {
   "cell_type": "code",
   "execution_count": 71,
   "id": "9f7ade0e",
   "metadata": {},
   "outputs": [
    {
     "name": "stdout",
     "output_type": "stream",
     "text": [
      "[['윈도우 11에 숨겨진 9가지 유용한 기능', '1일 전'], ['IDG 블로그 | RAM에 부착된 방열판 “성능에 영향 없지만 크기는 중요하다”', '1일 전'], [\"RaaS로 성공한 '레빌 랜섬웨어'의 주요 동향과 이를 막는 방법\", '1일 전'], ['갑자기 느려진 PC에 대처하는 방법 : CPU 및 메모리 사용량 관리', '1일 전'], ['트위치 데이터 유출 사건의 교훈 \"최소 권한 관리보다 중요한 것은 없다\"', '1일 전']]\n"
     ]
    }
   ],
   "source": [
    "topics = soup.select(\"ul.hot_news_list_ > li\")\n",
    "\n",
    "items = []\n",
    "item = []\n",
    "\n",
    "for topic in topics:\n",
    "    list = topic.find_all(\"div\")\n",
    "    \n",
    "    title = list[0].text.strip()\n",
    "    date = list[1].text.strip()\n",
    "    \n",
    "    item = [title, date]\n",
    "    items.append(item)\n",
    "    \n",
    "print(items)"
   ]
  },
  {
   "cell_type": "code",
   "execution_count": 98,
   "id": "1bbd0c32",
   "metadata": {},
   "outputs": [],
   "source": [
    "list_d_all = []"
   ]
  },
  {
   "cell_type": "code",
   "execution_count": 97,
   "id": "af41b29c",
   "metadata": {},
   "outputs": [],
   "source": [
    "titles = soup.select('ul.hot_news_list_ > li.font_bold > div.font_limit.fl')\n",
    "times = soup.select(\"ul.hot_news_list_ > li.font_bold > div.fr\")"
   ]
  },
  {
   "cell_type": "code",
   "execution_count": 99,
   "id": "824ae163",
   "metadata": {},
   "outputs": [],
   "source": [
    "for i in range(len(titles)):\n",
    "    list_d_all.append([titles[i].text.strip(), times[i].text.strip()])"
   ]
  },
  {
   "cell_type": "code",
   "execution_count": 100,
   "id": "63b201d5",
   "metadata": {},
   "outputs": [
    {
     "name": "stdout",
     "output_type": "stream",
     "text": [
      "['윈도우 11에 숨겨진 9가지 유용한 기능', '1일 전']\n",
      "['IDG 블로그 | RAM에 부착된 방열판 “성능에 영향 없지만 크기는 중요하다”', '1일 전']\n",
      "[\"RaaS로 성공한 '레빌 랜섬웨어'의 주요 동향과 이를 막는 방법\", '1일 전']\n",
      "['갑자기 느려진 PC에 대처하는 방법 : CPU 및 메모리 사용량 관리', '1일 전']\n",
      "['트위치 데이터 유출 사건의 교훈 \"최소 권한 관리보다 중요한 것은 없다\"', '1일 전']\n"
     ]
    }
   ],
   "source": [
    "for list_i in list_d_all:\n",
    "    print(list_i)"
   ]
  }
 ],
 "metadata": {
  "kernelspec": {
   "display_name": "Python 3 (ipykernel)",
   "language": "python",
   "name": "python3"
  },
  "language_info": {
   "codemirror_mode": {
    "name": "ipython",
    "version": 3
   },
   "file_extension": ".py",
   "mimetype": "text/x-python",
   "name": "python",
   "nbconvert_exporter": "python",
   "pygments_lexer": "ipython3",
   "version": "3.9.6"
  }
 },
 "nbformat": 4,
 "nbformat_minor": 5
}
