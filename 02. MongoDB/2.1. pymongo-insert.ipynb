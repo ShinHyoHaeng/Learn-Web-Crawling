{
 "cells": [
  {
   "cell_type": "code",
   "execution_count": 2,
   "id": "517a0164",
   "metadata": {},
   "outputs": [],
   "source": [
    "# import pymongo\n",
    "\n",
    "# import pymongo\n",
    "from pymongo import MongoClient"
   ]
  },
  {
   "cell_type": "code",
   "execution_count": 4,
   "id": "cb37c89e",
   "metadata": {},
   "outputs": [],
   "source": [
    "# localhost 설정\n",
    "\n",
    "# client = MongoClient('localhost', 27017)\n",
    "client = MongoClient('mongodb://localhost:27017')"
   ]
  },
  {
   "cell_type": "code",
   "execution_count": 6,
   "id": "ffa52623",
   "metadata": {},
   "outputs": [],
   "source": [
    "# 데이터베이스 연결\n",
    "\n",
    "# db = client.test_database\n",
    "db = client['test_database']"
   ]
  },
  {
   "cell_type": "code",
   "execution_count": 7,
   "id": "b8aba4df",
   "metadata": {},
   "outputs": [],
   "source": [
    "# collection 생성\n",
    "\n",
    "collection  = db['test_collection']"
   ]
  },
  {
   "cell_type": "markdown",
   "id": "35c1b526",
   "metadata": {},
   "source": [
    "#### insert_one: 한 건 입력"
   ]
  },
  {
   "cell_type": "code",
   "execution_count": 8,
   "id": "2721d28f",
   "metadata": {},
   "outputs": [],
   "source": [
    "data_dic = {'name':'홍길동', 'age':17}"
   ]
  },
  {
   "cell_type": "code",
   "execution_count": 9,
   "id": "7f428474",
   "metadata": {},
   "outputs": [],
   "source": [
    "re_data_dic = collection.insert_one(data_dic)"
   ]
  },
  {
   "cell_type": "code",
   "execution_count": 10,
   "id": "450be373",
   "metadata": {},
   "outputs": [
    {
     "name": "stdout",
     "output_type": "stream",
     "text": [
      "<pymongo.results.InsertOneResult object at 0x0000020BE3EC4140>\n"
     ]
    },
    {
     "data": {
      "text/plain": [
       "ObjectId('6168ea9832631379fe2f1e5a')"
      ]
     },
     "execution_count": 10,
     "metadata": {},
     "output_type": "execute_result"
    }
   ],
   "source": [
    "print(re_data_dic)\n",
    "re_data_dic.inserted_id"
   ]
  },
  {
   "cell_type": "code",
   "execution_count": 11,
   "id": "e51fa9d4",
   "metadata": {},
   "outputs": [],
   "source": [
    "data_dic2 = {'name':'김길동', 'age':15}"
   ]
  },
  {
   "cell_type": "code",
   "execution_count": 12,
   "id": "dfa7424c",
   "metadata": {},
   "outputs": [],
   "source": [
    "re_data_dic2 = collection.insert_one(data_dic2)"
   ]
  },
  {
   "cell_type": "markdown",
   "id": "dac42faa",
   "metadata": {},
   "source": [
    "#### insert_many - 여러 건 insert"
   ]
  },
  {
   "cell_type": "code",
   "execution_count": 13,
   "id": "a162dd6c",
   "metadata": {},
   "outputs": [],
   "source": [
    "data_list = [\n",
    "    {'name':'이길동','age':25},\n",
    "    {'name':'박길동','age':31},\n",
    "    {'name':'정길동','age':35}\n",
    "]"
   ]
  },
  {
   "cell_type": "code",
   "execution_count": 14,
   "id": "56d867f7",
   "metadata": {},
   "outputs": [],
   "source": [
    "re_3 = collection.insert_many(data_list)"
   ]
  },
  {
   "cell_type": "code",
   "execution_count": 15,
   "id": "f39e1fec",
   "metadata": {},
   "outputs": [
    {
     "data": {
      "text/plain": [
       "[ObjectId('6168ed9f32631379fe2f1e5c'),\n",
       " ObjectId('6168ed9f32631379fe2f1e5d'),\n",
       " ObjectId('6168ed9f32631379fe2f1e5e')]"
      ]
     },
     "execution_count": 15,
     "metadata": {},
     "output_type": "execute_result"
    }
   ],
   "source": [
    "re_3.inserted_ids"
   ]
  },
  {
   "cell_type": "markdown",
   "id": "bc34bc51",
   "metadata": {},
   "source": [
    "#### find_one, find"
   ]
  },
  {
   "cell_type": "code",
   "execution_count": 16,
   "id": "0198a3d4",
   "metadata": {},
   "outputs": [
    {
     "data": {
      "text/plain": [
       "{'_id': ObjectId('6168ea9832631379fe2f1e5a'), 'name': '홍길동', 'age': 17}"
      ]
     },
     "execution_count": 16,
     "metadata": {},
     "output_type": "execute_result"
    }
   ],
   "source": [
    "sr1 = collection.find_one()\n",
    "sr1"
   ]
  },
  {
   "cell_type": "code",
   "execution_count": 17,
   "id": "a8d5481d",
   "metadata": {},
   "outputs": [
    {
     "data": {
      "text/plain": [
       "<pymongo.cursor.Cursor at 0x20be3ec2970>"
      ]
     },
     "execution_count": 17,
     "metadata": {},
     "output_type": "execute_result"
    }
   ],
   "source": [
    "sr2 = collection.find()\n",
    "sr2"
   ]
  },
  {
   "cell_type": "code",
   "execution_count": 18,
   "id": "3ec6f83a",
   "metadata": {},
   "outputs": [
    {
     "name": "stdout",
     "output_type": "stream",
     "text": [
      "{'_id': ObjectId('6168ea9832631379fe2f1e5a'), 'name': '홍길동', 'age': 17}\n",
      "{'_id': ObjectId('6168ec5d32631379fe2f1e5b'), 'name': '김길동', 'age': 15}\n",
      "{'_id': ObjectId('6168ed9f32631379fe2f1e5c'), 'name': '이길동', 'age': 25}\n",
      "{'_id': ObjectId('6168ed9f32631379fe2f1e5d'), 'name': '박길동', 'age': 31}\n",
      "{'_id': ObjectId('6168ed9f32631379fe2f1e5e'), 'name': '정길동', 'age': 35}\n"
     ]
    }
   ],
   "source": [
    "for sr2_item in sr2:\n",
    "    print(sr2_item)"
   ]
  },
  {
   "cell_type": "markdown",
   "id": "8431b35c",
   "metadata": {},
   "source": [
    "#### 조건"
   ]
  },
  {
   "cell_type": "code",
   "execution_count": 19,
   "id": "b106d17f",
   "metadata": {},
   "outputs": [
    {
     "name": "stdout",
     "output_type": "stream",
     "text": [
      "{'_id': ObjectId('6168ea9832631379fe2f1e5a'), 'name': '홍길동', 'age': 17}\n"
     ]
    }
   ],
   "source": [
    "# where name= '홍길동'\n",
    "srs = collection.find({'name':'홍길동'})\n",
    "for sr in srs:\n",
    "    print(sr)"
   ]
  },
  {
   "cell_type": "code",
   "execution_count": 20,
   "id": "014978c0",
   "metadata": {},
   "outputs": [
    {
     "name": "stdout",
     "output_type": "stream",
     "text": [
      "{'_id': ObjectId('6168ea9832631379fe2f1e5a'), 'name': '홍길동', 'age': 17}\n"
     ]
    }
   ],
   "source": [
    "# where name = '홍길동' and age = 17\n",
    "srs = collection.find({'name':'홍길동', 'age':17})\n",
    "for sr in srs:\n",
    "    print(sr)"
   ]
  },
  {
   "cell_type": "code",
   "execution_count": 23,
   "id": "7efe9381",
   "metadata": {},
   "outputs": [
    {
     "name": "stdout",
     "output_type": "stream",
     "text": [
      "{'_id': ObjectId('6168ea9832631379fe2f1e5a'), 'name': '홍길동', 'age': 17}\n",
      "{'_id': ObjectId('6168ed9f32631379fe2f1e5c'), 'name': '이길동', 'age': 25}\n",
      "{'_id': ObjectId('6168ed9f32631379fe2f1e5d'), 'name': '박길동', 'age': 31}\n",
      "{'_id': ObjectId('6168ed9f32631379fe2f1e5e'), 'name': '정길동', 'age': 35}\n"
     ]
    }
   ],
   "source": [
    "# where age >= 17\n",
    "srs = collection.find({'age':{'$gte':17}})\n",
    "for sr in srs:\n",
    "    print(sr)"
   ]
  },
  {
   "cell_type": "code",
   "execution_count": 24,
   "id": "9e2a5171",
   "metadata": {},
   "outputs": [
    {
     "name": "stdout",
     "output_type": "stream",
     "text": [
      "{'_id': ObjectId('6168ed9f32631379fe2f1e5c'), 'name': '이길동', 'age': 25}\n",
      "{'_id': ObjectId('6168ed9f32631379fe2f1e5d'), 'name': '박길동', 'age': 31}\n",
      "{'_id': ObjectId('6168ed9f32631379fe2f1e5e'), 'name': '정길동', 'age': 35}\n"
     ]
    }
   ],
   "source": [
    "# where age > 17\n",
    "srs = collection.find({'age':{'$gt':17}})\n",
    "for sr in srs:\n",
    "    print(sr)"
   ]
  },
  {
   "cell_type": "code",
   "execution_count": 25,
   "id": "e5c31940",
   "metadata": {
    "scrolled": true
   },
   "outputs": [
    {
     "name": "stdout",
     "output_type": "stream",
     "text": [
      "{'name': '이길동'}\n",
      "{'name': '박길동'}\n",
      "{'name': '정길동'}\n"
     ]
    }
   ],
   "source": [
    "# where age > 17 \n",
    "srs = collection.find({'age':{'$gt':17}},{'name':1, '_id':0})\n",
    "for sr in srs:\n",
    "    print(sr)"
   ]
  },
  {
   "cell_type": "markdown",
   "id": "d0c3a76e",
   "metadata": {},
   "source": [
    "#### update_one, update_many"
   ]
  },
  {
   "cell_type": "code",
   "execution_count": 26,
   "id": "fe83e225",
   "metadata": {},
   "outputs": [
    {
     "data": {
      "text/plain": [
       "<pymongo.results.UpdateResult at 0x20be4018500>"
      ]
     },
     "execution_count": 26,
     "metadata": {},
     "output_type": "execute_result"
    }
   ],
   "source": [
    "collection.update_one({'name':'홍길동'},{'$set':{'age':18}})"
   ]
  },
  {
   "cell_type": "code",
   "execution_count": 27,
   "id": "5b3988f7",
   "metadata": {},
   "outputs": [
    {
     "name": "stdout",
     "output_type": "stream",
     "text": [
      "{'_id': ObjectId('6168ea9832631379fe2f1e5a'), 'name': '홍길동', 'age': 18}\n"
     ]
    }
   ],
   "source": [
    "srs = collection.find({'name':'홍길동'})\n",
    "for sr in srs:\n",
    "    print(sr)"
   ]
  },
  {
   "cell_type": "code",
   "execution_count": 28,
   "id": "e69f4c18",
   "metadata": {},
   "outputs": [
    {
     "data": {
      "text/plain": [
       "<pymongo.results.UpdateResult at 0x20be3ebcb80>"
      ]
     },
     "execution_count": 28,
     "metadata": {},
     "output_type": "execute_result"
    }
   ],
   "source": [
    "# 나이가 30보다 많은 사람의 나이를 31로 update하기\n",
    "\n",
    "# 결과 출력 실패\n",
    "collection.update_many({'age':{'$gt':{'age':30}}}, {'$set':{'age':31}})"
   ]
  },
  {
   "cell_type": "code",
   "execution_count": 29,
   "id": "52d2d5b3",
   "metadata": {},
   "outputs": [],
   "source": [
    "srs = collection.find({'age':{'$gt':{'age':30}}})\n",
    "for sr in srs:\n",
    "    print(sr)"
   ]
  },
  {
   "cell_type": "code",
   "execution_count": 30,
   "id": "f4c10244",
   "metadata": {},
   "outputs": [
    {
     "data": {
      "text/plain": [
       "<pymongo.results.UpdateResult at 0x20be4037e00>"
      ]
     },
     "execution_count": 30,
     "metadata": {},
     "output_type": "execute_result"
    }
   ],
   "source": [
    "# 나이가 30보다 많은 사람의 나이를 31로 update하기\n",
    "collection.update_many({'age':{'$gt':30}}, {'$set':{'age':31}})"
   ]
  },
  {
   "cell_type": "code",
   "execution_count": 31,
   "id": "049213c5",
   "metadata": {},
   "outputs": [
    {
     "name": "stdout",
     "output_type": "stream",
     "text": [
      "{'_id': ObjectId('6168ed9f32631379fe2f1e5d'), 'name': '박길동', 'age': 31}\n",
      "{'_id': ObjectId('6168ed9f32631379fe2f1e5e'), 'name': '정길동', 'age': 31}\n"
     ]
    }
   ],
   "source": [
    "srs = collection.find({'age':{'$gt':30}})\n",
    "for sr in srs:\n",
    "    print(sr)"
   ]
  },
  {
   "cell_type": "markdown",
   "id": "93aabba9",
   "metadata": {},
   "source": [
    "#### delete, delete_many"
   ]
  },
  {
   "cell_type": "code",
   "execution_count": 32,
   "id": "96fc6e69",
   "metadata": {},
   "outputs": [
    {
     "data": {
      "text/plain": [
       "<pymongo.results.DeleteResult at 0x20be4033dc0>"
      ]
     },
     "execution_count": 32,
     "metadata": {},
     "output_type": "execute_result"
    }
   ],
   "source": [
    "collection.delete_one({'name':'홍길동'})"
   ]
  },
  {
   "cell_type": "code",
   "execution_count": 33,
   "id": "750d1aed",
   "metadata": {},
   "outputs": [
    {
     "name": "stdout",
     "output_type": "stream",
     "text": [
      "{'_id': ObjectId('6168ec5d32631379fe2f1e5b'), 'name': '김길동', 'age': 15}\n",
      "{'_id': ObjectId('6168ed9f32631379fe2f1e5c'), 'name': '이길동', 'age': 25}\n",
      "{'_id': ObjectId('6168ed9f32631379fe2f1e5d'), 'name': '박길동', 'age': 31}\n",
      "{'_id': ObjectId('6168ed9f32631379fe2f1e5e'), 'name': '정길동', 'age': 31}\n"
     ]
    }
   ],
   "source": [
    "srs = collection.find()\n",
    "for sr in srs:\n",
    "    print(sr)"
   ]
  },
  {
   "cell_type": "code",
   "execution_count": 34,
   "id": "77f31c2f",
   "metadata": {},
   "outputs": [
    {
     "data": {
      "text/plain": [
       "<pymongo.results.DeleteResult at 0x20be4033d40>"
      ]
     },
     "execution_count": 34,
     "metadata": {},
     "output_type": "execute_result"
    }
   ],
   "source": [
    "collection.delete_many({'age':{'$gte':31}})"
   ]
  },
  {
   "cell_type": "code",
   "execution_count": 35,
   "id": "1cb57df3",
   "metadata": {},
   "outputs": [
    {
     "name": "stdout",
     "output_type": "stream",
     "text": [
      "{'_id': ObjectId('6168ec5d32631379fe2f1e5b'), 'name': '김길동', 'age': 15}\n",
      "{'_id': ObjectId('6168ed9f32631379fe2f1e5c'), 'name': '이길동', 'age': 25}\n"
     ]
    }
   ],
   "source": [
    "srs = collection.find()\n",
    "for sr in srs:\n",
    "    print(sr)"
   ]
  },
  {
   "cell_type": "code",
   "execution_count": null,
   "id": "ac43a6a9",
   "metadata": {},
   "outputs": [],
   "source": []
  }
 ],
 "metadata": {
  "kernelspec": {
   "display_name": "Python 3 (ipykernel)",
   "language": "python",
   "name": "python3"
  },
  "language_info": {
   "codemirror_mode": {
    "name": "ipython",
    "version": 3
   },
   "file_extension": ".py",
   "mimetype": "text/x-python",
   "name": "python",
   "nbconvert_exporter": "python",
   "pygments_lexer": "ipython3",
   "version": "3.9.6"
  }
 },
 "nbformat": 4,
 "nbformat_minor": 5
}
